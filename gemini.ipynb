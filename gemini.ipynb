{
  "cells": [
    {
      "cell_type": "markdown",
      "metadata": {},
      "source": [
        "INSTALLING GENAI"
      ]
    },
    {
      "cell_type": "code",
      "execution_count": 15,
      "metadata": {
        "colab": {
          "base_uri": "https://localhost:8080/"
        },
        "id": "bHLxb7Qd1uXm",
        "outputId": "a8be1889-543b-4769-ec6b-f40119778755"
      },
      "outputs": [
        {
          "name": "stdout",
          "output_type": "stream",
          "text": [
            "Note: you may need to restart the kernel to use updated packages.\n"
          ]
        }
      ],
      "source": [
        "pip install -q -U google-generativeai"
      ]
    },
    {
      "cell_type": "code",
      "execution_count": 16,
      "metadata": {
        "id": "7uFRaGmj2Md2"
      },
      "outputs": [],
      "source": [
        "import google.generativeai as genai"
      ]
    },
    {
      "cell_type": "code",
      "execution_count": 17,
      "metadata": {
        "id": "84pcKwW82Rsg"
      },
      "outputs": [],
      "source": [
        "GOOGLE_API_KEY='your api key here'\n",
        "genai.configure(api_key=GOOGLE_API_KEY)\n"
      ]
    },
    {
      "cell_type": "code",
      "execution_count": 18,
      "metadata": {
        "id": "TGLlySOB2mui"
      },
      "outputs": [],
      "source": [
        "# for m in genai.list_models():\n",
        "#   if 'generateContent' in m.supported_generation_methods:\n",
        "#     print(m.name)"
      ]
    },
    {
      "cell_type": "code",
      "execution_count": 19,
      "metadata": {
        "id": "AREGNUsB3iXa"
      },
      "outputs": [],
      "source": [
        "\n",
        "# Model Configuration\n",
        "MODEL_CONFIG = {\n",
        "  \"temperature\": 0.2,\n",
        "  \"top_p\": 1,\n",
        "  \"top_k\": 32,\n",
        "  \"max_output_tokens\": 4096,\n",
        "}\n",
        "\n",
        "## Safety Settings of Model\n",
        "safety_settings = [\n",
        "  {\n",
        "    \"category\": \"HARM_CATEGORY_HARASSMENT\",\n",
        "    \"threshold\": \"BLOCK_MEDIUM_AND_ABOVE\"\n",
        "  },\n",
        "  {\n",
        "    \"category\": \"HARM_CATEGORY_HATE_SPEECH\",\n",
        "    \"threshold\": \"BLOCK_MEDIUM_AND_ABOVE\"\n",
        "  },\n",
        "  {\n",
        "    \"category\": \"HARM_CATEGORY_SEXUALLY_EXPLICIT\",\n",
        "    \"threshold\": \"BLOCK_MEDIUM_AND_ABOVE\"\n",
        "  },\n",
        "  {\n",
        "    \"category\": \"HARM_CATEGORY_DANGEROUS_CONTENT\",\n",
        "    \"threshold\": \"BLOCK_MEDIUM_AND_ABOVE\"\n",
        "  }\n",
        "]"
      ]
    },
    {
      "cell_type": "code",
      "execution_count": 20,
      "metadata": {
        "id": "YG0y6pph3nCM"
      },
      "outputs": [],
      "source": [
        "model = genai.GenerativeModel(model_name = \"gemini-1.0-pro-vision-latest\",\n",
        "                              generation_config = MODEL_CONFIG,\n",
        "                              safety_settings = safety_settings)"
      ]
    },
    {
      "cell_type": "code",
      "execution_count": 21,
      "metadata": {
        "id": "MG7-twFT3upH"
      },
      "outputs": [],
      "source": [
        "from pathlib import Path\n",
        "\n",
        "def image_format(image_path):\n",
        "    img = Path(image_path)\n",
        "\n",
        "    if not img.exists():\n",
        "        raise FileNotFoundError(f\"Could not find image: {img}\")\n",
        "\n",
        "    image_parts = [\n",
        "        {\n",
        "            \"mime_type\": \"image/jpeg\", ## Mime type are PNG - image/png. JPEG - image/jpeg. WEBP - image/webp\n",
        "            \"data\": img.read_bytes()\n",
        "        }\n",
        "    ]\n",
        "    return image_parts"
      ]
    },
    {
      "cell_type": "code",
      "execution_count": 22,
      "metadata": {
        "id": "d3gog50x3yr0"
      },
      "outputs": [],
      "source": [
        "def gemini_output(image_path, system_prompt, user_prompt):\n",
        "\n",
        "    image_info = image_format(image_path)\n",
        "    input_prompt= [system_prompt, image_info[0], user_prompt]\n",
        "    response = model.generate_content(input_prompt)\n",
        "    return response.text"
      ]
    },
    {
      "cell_type": "code",
      "execution_count": 23,
      "metadata": {
        "colab": {
          "base_uri": "https://localhost:8080/",
          "height": 36
        },
        "id": "HHBER-f031qE",
        "outputId": "6886ec8d-015f-4e5d-dca2-63bdbe3c33a6"
      },
      "outputs": [
        {
          "data": {
            "text/plain": [
              "' 327.00'"
            ]
          },
          "execution_count": 23,
          "metadata": {},
          "output_type": "execute_result"
        }
      ],
      "source": [
        "system_prompt = \"\"\"\n",
        "               You are a specialist in comprehending receipts.\n",
        "               Input images in the form of receipts will be provided to you,\n",
        "               and your task is to respond to questions based on the content of the input image.\n",
        "               \"\"\"\n",
        "\n",
        "image_path = r\"C:\\Users\\hp\\Desktop\\ocr project\\invoice_demo.jpg\"\n",
        "\n",
        "user_prompt = \"What is the total amount in the image?\"\n",
        "\n",
        "gemini_output(image_path, system_prompt, user_prompt)"
      ]
    },
    {
      "cell_type": "markdown",
      "metadata": {
        "id": "jl0eY6Xz4ebh"
      },
      "source": [
        "### EXTRACTING WHOLE DATA IN JSON FROM **INVOICE**"
      ]
    },
    {
      "cell_type": "code",
      "execution_count": 24,
      "metadata": {
        "id": "m7yj7gM-395m"
      },
      "outputs": [],
      "source": [
        "system_prompt = \"\"\"\n",
        "               You are a specialist in comprehending receipts.\n",
        "               Input images in the form of receipts will be provided to you,\n",
        "               and your task is to respond to questions based on the content of the input image.\n",
        "               \"\"\"\n",
        "#system_prompt = \"Convert Invoice data into json format with appropriate json tags as required for the data in image \"\n",
        "image_path = r\"C:\\Users\\hp\\Desktop\\ocr project\\invoice_demo.jpg\"\n",
        "user_prompt = \"Convert Invoice data into json format with appropriate json tags as required for the data in image\""
      ]
    },
    {
      "cell_type": "code",
      "execution_count": 25,
      "metadata": {
        "colab": {
          "base_uri": "https://localhost:8080/",
          "height": 1000
        },
        "id": "98u-8rKM4uVG",
        "outputId": "d90ade56-94ac-456e-aec8-0cff9d4eec84"
      },
      "outputs": [
        {
          "data": {
            "text/markdown": [
              " ```json\n",
              "{\n",
              "  \"InvoiceNo\": \"J0352019-K\",\n",
              "  \"InvoiceDate\": \"11/01/2019\",\n",
              "  \"InvoiceTime\": \"09:44:00\",\n",
              "  \"Cashier\": \"USER\",\n",
              "  \"Ref\": \"\",\n",
              "  \"Customer\": {\n",
              "    \"Name\": \"TAN CHAY YEE\",\n",
              "    \"Address\": \"NO.53 JALAN PUTRA 1, TAMAN SRI PUTRA, 81200 JOHOR BAHRU, JOHOR\",\n",
              "    \"GSTNo\": \"002116837376\"\n",
              "  },\n",
              "  \"Items\": [\n",
              "    {\n",
              "      \"ItemCode\": \"1072\",\n",
              "      \"Description\": \"REPAIR ENGINE POWER SPRAYER (1UNIT)\",\n",
              "      \"Quantity\": 1,\n",
              "      \"UnitPrice\": 160.00,\n",
              "      \"SalesPrice\": 160.00,\n",
              "      \"Amount\": 160.00,\n",
              "      \"Tax\": 0.00\n",
              "    },\n",
              "    {\n",
              "      \"ItemCode\": \"70549\",\n",
              "      \"Description\": \"GIANT 606 OVERFLOW ASSY\",\n",
              "      \"Quantity\": 1,\n",
              "      \"UnitPrice\": 17.00,\n",
              "      \"SalesPrice\": 17.00,\n",
              "      \"Amount\": 17.00,\n",
              "      \"Tax\": 0.00\n",
              "    },\n",
              "    {\n",
              "      \"ItemCode\": \"1071\",\n",
              "      \"Description\": \"ENGINE OIL\",\n",
              "      \"Quantity\": 1,\n",
              "      \"UnitPrice\": 10.00,\n",
              "      \"SalesPrice\": 10.00,\n",
              "      \"Amount\": 10.00,\n",
              "      \"Tax\": 0.00\n",
              "    },\n",
              "    {\n",
              "      \"ItemCode\": \"70637\",\n",
              "      \"Description\": \"GREASE FOR TOOLS 40ML (AKODA)\",\n",
              "      \"Quantity\": 1,\n",
              "      \"UnitPrice\": 6.00,\n",
              "      \"SalesPrice\": 6.00,\n",
              "      \"Amount\": 6.00,\n",
              "      \"Tax\": 0.00\n",
              "    },\n",
              "    {\n",
              "      \"ItemCode\": \"1643\",\n",
              "      \"Description\": \"STARTER TALI\",\n",
              "      \"Quantity\": 1,\n",
              "      \"UnitPrice\": 8.00,\n",
              "      \"SalesPrice\": 8.00,\n",
              "      \"Amount\": 8.00,\n",
              "      \"Tax\": 0.00\n",
              "    },\n",
              "    {\n",
              "      \"ItemCode\": \"70197\",\n",
              "      \"Description\": \"EY20 STARTER HANDLE\",\n",
              "      \"Quantity\": 2,\n",
              "      \"UnitPrice\": 18.00,\n",
              "      \"SalesPrice\": 36.00,\n",
              "      \"Amount\": 36.00,\n",
              "      \"Tax\": 0.00\n",
              "    },\n",
              "    {\n",
              "      \"ItemCode\": \"HD40 1L COTIN\",\n",
              "      \"Description\": \"HD40 1L COTIN\",\n",
              "      \"Quantity\": 1,\n",
              "      \"UnitPrice\": 9.00,\n",
              "      \"SalesPrice\": 9.00,\n",
              "      \"Amount\": 9.00,\n",
              "      \"Tax\": 0.00\n",
              "    }\n",
              "  ],\n",
              "  \"TotalSales\": 327.00,\n",
              "  \"Discount\": 0.00,\n",
              "  \"Rounding\": 0.00,\n",
              "  \"Total\": 327.00,\n",
              "  \"Cash\": 327.00,\n",
              "  \"Change\": 0.00\n",
              "}\n",
              "```"
            ],
            "text/plain": [
              "<IPython.core.display.Markdown object>"
            ]
          },
          "execution_count": 25,
          "metadata": {},
          "output_type": "execute_result"
        }
      ],
      "source": [
        "output = gemini_output(image_path, system_prompt, user_prompt)\n",
        "from IPython.display import Markdown\n",
        "Markdown(output)"
      ]
    }
  ],
  "metadata": {
    "colab": {
      "provenance": []
    },
    "kernelspec": {
      "display_name": "Python 3",
      "name": "python3"
    },
    "language_info": {
      "codemirror_mode": {
        "name": "ipython",
        "version": 3
      },
      "file_extension": ".py",
      "mimetype": "text/x-python",
      "name": "python",
      "nbconvert_exporter": "python",
      "pygments_lexer": "ipython3",
      "version": "3.11.4"
    }
  },
  "nbformat": 4,
  "nbformat_minor": 0
}
